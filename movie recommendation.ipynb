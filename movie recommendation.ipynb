{
  "cells": [
    {
      "cell_type": "code",
      "source": [
        "!pip install kagglehub --quiet\n"
      ],
      "metadata": {
        "id": "ghfU67WN1COc"
      },
      "execution_count": null,
      "outputs": []
    },
    {
      "cell_type": "code",
      "source": [
        "import kagglehub\n",
        "\n",
        "# Download latest version of the dataset\n",
        "path = kagglehub.dataset_download(\"tmdb/tmdb-movie-metadata\")\n",
        "print(\"Path to dataset files:\", path)\n"
      ],
      "metadata": {
        "id": "KMShdFFP1CK8",
        "outputId": "7674ff87-1ed7-49ab-9464-438b3a00cdab",
        "colab": {
          "base_uri": "https://localhost:8080/"
        }
      },
      "execution_count": null,
      "outputs": [
        {
          "output_type": "stream",
          "name": "stdout",
          "text": [
            "Path to dataset files: /kaggle/input/tmdb-movie-metadata\n"
          ]
        }
      ]
    },
    {
      "cell_type": "code",
      "source": [
        "import pandas as pd\n",
        "import os\n",
        "\n",
        "csv_path = os.path.join(path, 'tmdb_5000_movies.csv')\n",
        "df = pd.read_csv(csv_path)\n",
        "df = df[['title', 'genres', 'overview']].dropna()\n"
      ],
      "metadata": {
        "id": "JhgsJeyH1CHu"
      },
      "execution_count": null,
      "outputs": []
    },
    {
      "cell_type": "code",
      "source": [
        "import ast\n",
        "def extract_genres(genre_str):\n",
        "    try:\n",
        "        genres = ast.literal_eval(genre_str)\n",
        "        return \" \".join([genre['name'] for genre in genres])\n",
        "    except:\n",
        "        return \"\"\n",
        "\n",
        "df['genres'] = df['genres'].apply(extract_genres)"
      ],
      "metadata": {
        "id": "VjqDGWgW1CE1"
      },
      "execution_count": null,
      "outputs": []
    },
    {
      "cell_type": "code",
      "source": [
        "df['combined'] = df['genres'] + \" \" + df['overview']\n"
      ],
      "metadata": {
        "id": "awc30cjp1CBz"
      },
      "execution_count": null,
      "outputs": []
    },
    {
      "cell_type": "code",
      "source": [
        "from sklearn.feature_extraction.text import TfidfVectorizer\n",
        "tfidf = TfidfVectorizer(stop_words='english')\n",
        "tfidf_matrix = tfidf.fit_transform(df['combined'])\n"
      ],
      "metadata": {
        "id": "HHq3-27p1B-r"
      },
      "execution_count": null,
      "outputs": []
    },
    {
      "cell_type": "code",
      "source": [
        "from sklearn.metrics.pairwise import cosine_similarity\n",
        "cosine_sim = cosine_similarity(tfidf_matrix)\n"
      ],
      "metadata": {
        "id": "BaYrOgGb1B7T"
      },
      "execution_count": null,
      "outputs": []
    },
    {
      "cell_type": "code",
      "source": [
        "def recommend(movie_title):\n",
        "    if movie_title not in df['title'].values:\n",
        "        return \"Movie not found.\"\n",
        "\n",
        "    idx = df[df['title'] == movie_title].index[0]\n",
        "    scores = list(enumerate(cosine_sim[idx]))\n",
        "    scores = sorted(scores, key=lambda x: x[1], reverse=True)[1:6]  # Top 5 excluding itself\n",
        "    return [df.iloc[i[0]]['title'] for i in scores]"
      ],
      "metadata": {
        "id": "DwxkBB9d1B4a"
      },
      "execution_count": null,
      "outputs": []
    },
    {
      "cell_type": "code",
      "source": [
        "movie_name = \"Men in Black 3\"\n",
        "print(f\"Movies similar to '{movie_name}':\")\n",
        "for movie in recommend(movie_name):\n",
        "    print(\"➤\", movie)\n"
      ],
      "metadata": {
        "id": "WhcFW3kJ1UtM",
        "outputId": "b8a24ecd-8a73-467d-b0e0-528025d73fff",
        "colab": {
          "base_uri": "https://localhost:8080/"
        }
      },
      "execution_count": null,
      "outputs": [
        {
          "output_type": "stream",
          "name": "stdout",
          "text": [
            "Movies similar to 'Men in Black 3':\n",
            "➤ Timecop\n",
            "➤ The Book of Eli\n",
            "➤ Meet Dave\n",
            "➤ The Helix... Loaded\n",
            "➤ Project Almanac\n"
          ]
        }
      ]
    },
    {
      "cell_type": "code",
      "source": [],
      "metadata": {
        "id": "8-7noUIk1XWE"
      },
      "execution_count": null,
      "outputs": []
    }
  ],
  "metadata": {
    "colab": {
      "provenance": []
    },
    "kernelspec": {
      "display_name": "Python 3",
      "name": "python3"
    }
  },
  "nbformat": 4,
  "nbformat_minor": 0
}